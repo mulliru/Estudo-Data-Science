{
 "cells": [
  {
   "cell_type": "markdown",
   "metadata": {},
   "source": [
    "# Análise de Dados com Python\n",
    "\n",
    "Este notebook tem como objetivo fornecer uma visão geral sobre análise de dados usando Python. Vamos abordar desde a importação de bibliotecas, carregamento e exploração dos dados, até a visualização e modelagem de dados.\n",
    "\n",
    "A análise de dados é o processo de inspecionar, limpar, transformar e modelar dados com o objetivo de descobrir informações úteis, informar conclusões e apoiar a tomada de decisões.\n"
   ]
  },
  {
   "cell_type": "markdown",
   "metadata": {},
   "source": [
    "___________________________________________________________________________________________________________________________________________________"
   ]
  },
  {
   "cell_type": "markdown",
   "metadata": {},
   "source": [
    "## Importação de Bibliotecas\n",
    "\n",
    "O código importa as bibliotecas `pandas`, `seaborn`, `matplotlib` e `matplotlib.pyplot` e verifica se elas foram importadas corretamente.\n",
    "\n",
    "- **`pandas`** é uma biblioteca de análise de dados que fornece estruturas de dados e ferramentas para manipulação e análise de dados.\n",
    "- **`seaborn`** é uma biblioteca de visualização de dados baseada no `matplotlib` que fornece uma interface de alto nível para criar gráficos estatísticos atraentes e informativos.\n",
    "- **`matplotlib`** é uma biblioteca de plotagem em Python que produz gráficos de alta qualidade em uma variedade de formatos e ambientes.\n",
    "- **`matplotlib.pyplot`** é uma coleção de funções e estilos que fazem com que o `matplotlib` funcione como o MATLAB.\n",
    "\n",
    "O código imprime as versões das bibliotecas importadas usando as variáveis `pd.__version__`, `sns.__version__` e `matplotlib.__version__`. Isso é útil para verificar se as versões das bibliotecas são compatíveis com o código que será executado.\n"
   ]
  },
  {
   "cell_type": "code",
   "execution_count": 5,
   "metadata": {},
   "outputs": [
    {
     "name": "stdout",
     "output_type": "stream",
     "text": [
      "Versão do pandas: 2.2.1\n",
      "Versão do seaborn: 0.13.2\n",
      "Versão do matplotlib: 3.8.3\n"
     ]
    }
   ],
   "source": [
    "# Importação de Bibliotecas\n",
    "import pandas as pd\n",
    "import seaborn as sns\n",
    "import matplotlib as mpl\n",
    "import matplotlib.pyplot as plt\n",
    "\n",
    "# Verificando as versões das bibliotecas importadas\n",
    "print(f'Versão do pandas: {pd.__version__}')\n",
    "print(f'Versão do seaborn: {sns.__version__}')\n",
    "print(f'Versão do matplotlib: {mpl.__version__}')\n"
   ]
  },
  {
   "cell_type": "markdown",
   "metadata": {},
   "source": [
    "## Carregamento de Dados\n",
    "\n",
    "A função `pd.read_csv` é usada para ler um arquivo CSV (Comma Separated Values) e carregá-lo em um DataFrame do pandas. O DataFrame é uma estrutura de dados bidimensional, similar a uma tabela, que facilita a manipulação e análise dos dados.\n",
    "\n",
    "Aqui, estamos carregando um arquivo chamado 'dados.csv'. Certifique-se de ter o arquivo CSV no mesmo diretório do seu notebook ou forneça o caminho completo para o arquivo.\n"
   ]
  },
  {
   "cell_type": "code",
   "execution_count": 6,
   "metadata": {},
   "outputs": [],
   "source": [
    "# Carregamento de Dados\n",
    "# Supondo que temos um arquivo CSV chamado 'dados.csv'\n",
    "# O código abaixo carrega o arquivo CSV em um DataFrame do pandas\n",
    "\n",
    "df = pd.read_csv(\"./ml-latest-small/ratings.csv\")\n"
   ]
  },
  {
   "cell_type": "markdown",
   "metadata": {},
   "source": [
    "## Explorando os Dados\n",
    "\n",
    "A função `head()` é usada para visualizar as primeiras linhas do DataFrame. Por padrão, `head()` retorna as primeiras 5 linhas, mas você pode especificar um número diferente de linhas como argumento, por exemplo, `df.head(10)`.\n",
    "\n",
    "Isso ajuda a ter uma visão geral dos dados carregados.\n"
   ]
  },
  {
   "cell_type": "code",
   "execution_count": 7,
   "metadata": {},
   "outputs": [
    {
     "name": "stdout",
     "output_type": "stream",
     "text": [
      "   userId  movieId  rating  timestamp\n",
      "0       1        1     4.0  964982703\n",
      "1       1        3     4.0  964981247\n",
      "2       1        6     4.0  964982224\n",
      "3       1       47     5.0  964983815\n",
      "4       1       50     5.0  964982931\n"
     ]
    }
   ],
   "source": [
    "# Explorando os Dados\n",
    "# Visualizando as primeiras linhas do DataFrame\n",
    "print(df.head())\n"
   ]
  },
  {
   "cell_type": "markdown",
   "metadata": {},
   "source": [
    "## Listando Colunas\n",
    "\n",
    "A propriedade `columns` do DataFrame retorna os nomes das colunas do DataFrame. Isso é útil para entender a estrutura dos dados e os nomes das variáveis disponíveis.\n",
    "\n",
    "Você pode acessar as colunas com `df.columns`.\n"
   ]
  },
  {
   "cell_type": "code",
   "execution_count": 8,
   "metadata": {},
   "outputs": [
    {
     "name": "stdout",
     "output_type": "stream",
     "text": [
      "Index(['userId', 'movieId', 'rating', 'timestamp'], dtype='object')\n"
     ]
    }
   ],
   "source": [
    "# Listando as colunas do DataFrame\n",
    "print(df.columns)\n"
   ]
  },
  {
   "cell_type": "markdown",
   "metadata": {},
   "source": [
    "## Selecionando uma Coluna\n",
    "\n",
    "Para selecionar uma coluna específica de um DataFrame, usamos a notação de colchetes com o nome da coluna. Por exemplo, `df['nota']` seleciona a coluna chamada 'nota'.\n",
    "\n",
    "Isso é útil para focar em uma variável específica dos dados.\n"
   ]
  },
  {
   "cell_type": "code",
   "execution_count": 15,
   "metadata": {},
   "outputs": [
    {
     "name": "stdout",
     "output_type": "stream",
     "text": [
      "0         4.0\n",
      "1         4.0\n",
      "2         4.0\n",
      "3         5.0\n",
      "4         5.0\n",
      "         ... \n",
      "100831    4.0\n",
      "100832    5.0\n",
      "100833    5.0\n",
      "100834    5.0\n",
      "100835    3.0\n",
      "Name: rating, Length: 100836, dtype: float64\n"
     ]
    }
   ],
   "source": [
    "# Selecionando uma coluna específica\n",
    "print(df['rating'])\n"
   ]
  },
  {
   "cell_type": "markdown",
   "metadata": {},
   "source": [
    "## Valores Únicos\n",
    "\n",
    "A função `unique()` retorna os valores únicos presentes em uma coluna. Isso é útil para entender a diversidade dos dados em uma coluna específica.\n",
    "\n",
    "Por exemplo, `df['nota'].unique()` retorna todos os valores únicos na coluna 'nota'.\n"
   ]
  },
  {
   "cell_type": "code",
   "execution_count": 16,
   "metadata": {},
   "outputs": [
    {
     "name": "stdout",
     "output_type": "stream",
     "text": [
      "[4.  5.  3.  2.  1.  4.5 3.5 2.5 0.5 1.5]\n"
     ]
    }
   ],
   "source": [
    "# Valores únicos em uma coluna\n",
    "print(df['rating'].unique())\n"
   ]
  },
  {
   "cell_type": "markdown",
   "metadata": {},
   "source": [
    "## Mediana e Média\n",
    "\n",
    "A função `median()` calcula a mediana dos valores em uma coluna, enquanto a função `mean()` calcula a média dos valores. Ambas são medidas de tendência central que fornecem insights sobre a distribuição dos dados.\n",
    "\n",
    "- **Mediana**: O valor que separa a metade superior da metade inferior dos dados.\n",
    "- **Média**: A soma de todos os valores dividida pelo número de valores.\n"
   ]
  },
  {
   "cell_type": "code",
   "execution_count": 17,
   "metadata": {},
   "outputs": [
    {
     "name": "stdout",
     "output_type": "stream",
     "text": [
      "Mediana: 3.5\n",
      "Média: 3.501556983616962\n"
     ]
    }
   ],
   "source": [
    "# Calculando a Mediana e a Média de uma Coluna\n",
    "print(\"Mediana:\", df['rating'].median())\n",
    "print(\"Média:\", df['rating'].mean())\n"
   ]
  },
  {
   "cell_type": "markdown",
   "metadata": {},
   "source": [
    "## Plotando um Histograma\n",
    "\n",
    "Usamos a função `plot()` do pandas para criar um histograma, especificando `kind='hist'` para indicar que queremos um histograma. Os parâmetros `xlabel` e `ylabel` definem os rótulos dos eixos x e y, respectivamente.\n",
    "\n",
    "Um histograma é útil para visualizar a distribuição dos dados.\n"
   ]
  },
  {
   "cell_type": "code",
   "execution_count": 18,
   "metadata": {},
   "outputs": [
    {
     "data": {
      "image/png": "[encoded data removed]",
      "text/plain": [
       "<Figure size 640x480 with 1 Axes>"
      ]
     },
     "metadata": {},
     "output_type": "display_data"
    }
   ],
   "source": [
    "# Plotando um Histograma\n",
    "df['rating'].plot(kind='hist', title='Histograma de Notas')\n",
    "plt.xlabel('rating')\n",
    "plt.ylabel('Frequência')\n",
    "plt.show()\n"
   ]
  },
  {
   "cell_type": "markdown",
   "metadata": {},
   "source": [
    "## Descrição Estatística\n",
    "\n",
    "A função `describe()` gera um resumo estatístico dos dados numéricos no DataFrame, incluindo contagem, média, desvio padrão, valores mínimo e máximo, e percentis.\n",
    "\n",
    "Isso fornece uma visão geral das principais estatísticas dos dados.\n"
   ]
  },
  {
   "cell_type": "code",
   "execution_count": 19,
   "metadata": {},
   "outputs": [
    {
     "name": "stdout",
     "output_type": "stream",
     "text": [
      "              userId        movieId         rating     timestamp\n",
      "count  100836.000000  100836.000000  100836.000000  1.008360e+05\n",
      "mean      326.127564   19435.295718       3.501557  1.205946e+09\n",
      "std       182.618491   35530.987199       1.042529  2.162610e+08\n",
      "min         1.000000       1.000000       0.500000  8.281246e+08\n",
      "25%       177.000000    1199.000000       3.000000  1.019124e+09\n",
      "50%       325.000000    2991.000000       3.500000  1.186087e+09\n",
      "75%       477.000000    8122.000000       4.000000  1.435994e+09\n",
      "max       610.000000  193609.000000       5.000000  1.537799e+09\n"
     ]
    }
   ],
   "source": [
    "# Descrição Estatística dos Dados\n",
    "print(df.describe())\n"
   ]
  },
  {
   "cell_type": "markdown",
   "metadata": {},
   "source": [
    "## Boxplot\n",
    "\n",
    "Usamos a função `boxplot()` do seaborn para criar um boxplot. Um boxplot é uma representação gráfica da distribuição dos dados que mostra a mediana, os quartis e os possíveis outliers.\n",
    "\n",
    "Isso ajuda a identificar a variação dos dados e detectar valores anômalos.\n"
   ]
  },
  {
   "cell_type": "code",
   "execution_count": 20,
   "metadata": {},
   "outputs": [
    {
     "data": {
      "image/png": "[encoded data removed]",
      "text/plain": [
       "<Figure size 640x480 with 1 Axes>"
      ]
     },
     "metadata": {},
     "output_type": "display_data"
    }
   ],
   "source": [
    "# Boxplot\n",
    "sns.boxplot(x=df['rating'])\n",
    "plt.title('Boxplot de Notas')\n",
    "plt.show()\n"
   ]
  },
  {
   "cell_type": "markdown",
   "metadata": {},
   "source": [
    "## Conclusão\n",
    "\n",
    "Neste notebook, exploramos um conjunto de dados de exemplo, realizamos a limpeza dos dados, fizemos uma análise exploratória, visualizamos os dados e construímos um modelo de regressão linear simples. Análise de dados é um processo iterativo e cada etapa é crucial para obter insights valiosos a partir dos dados.\n"
   ]
  }
 ],
 "metadata": {
  "kernelspec": {
   "display_name": "Python 3",
   "language": "python",
   "name": "python3"
  },
  "language_info": {
   "codemirror_mode": {
    "name": "ipython",
    "version": 3
   },
   "file_extension": ".py",
   "mimetype": "text/x-python",
   "name": "python",
   "nbconvert_exporter": "python",
   "pygments_lexer": "ipython3",
   "version": "3.11.9"
  }
 },
 "nbformat": 4,
 "nbformat_minor": 2
}
